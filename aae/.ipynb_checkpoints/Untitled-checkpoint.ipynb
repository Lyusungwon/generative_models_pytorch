{
 "cells": [
  {
   "cell_type": "code",
   "execution_count": 1,
   "metadata": {},
   "outputs": [],
   "source": [
    "import torch\n",
    "from PIL import Image\n",
    "import numpy as np\n",
    "from torch.distributions import Categorical\n",
    "import matplotlib.pyplot as plt\n",
    "\n",
    "# %matplotlib inline\n",
    "r = Image.open('images.png')\n",
    "a = np.array(r)\n",
    "\n",
    "# r = Image.open((plt.imread('images.png')).astype(np.float32))\n",
    "# print(r)\n",
    "img = (plt.imread('images.png')).astype(np.float32)\n",
    "# print(list(img))\n",
    "# line = img > 180\n",
    "# plt.imshow(line.astype(np.float32))\n",
    "# print(line.sum())\n",
    "# plt.grid('off')\n",
    "# prob = torch.FloatTensor(np.array(r).flatten()/np.array(r).sum())\n",
    "# prob = prob.unsqueeze(0).repeat(10,1)\n",
    "# m = Categorical(prob)\n",
    "# a = m.sample_n(2).float()\n",
    "# print(a)\n",
    "# with open('siggraph.pkl', 'rb') as f:\n",
    "#     X = np.array(pickle.load(f))\n",
    "# X -= np.mean(X, axis=0)  # center\n",
    "# xlim, ylim = [-4, 4], [-2, 2]\n",
    "#\n"
   ]
  },
  {
   "cell_type": "code",
   "execution_count": 32,
   "metadata": {},
   "outputs": [
    {
     "name": "stdout",
     "output_type": "stream",
     "text": [
      "[[114 244]\n",
      " [115 244]\n",
      " [116 244]\n",
      " ...\n",
      " [204  45]\n",
      " [205  45]\n",
      " [206  45]]\n"
     ]
    },
    {
     "data": {
      "image/png": "[encoded data removed]",
      "text/plain": [
       "<matplotlib.figure.Figure at 0x7f2474452320>"
      ]
     },
     "metadata": {},
     "output_type": "display_data"
    }
   ],
   "source": [
    "# from random import rand\n",
    "image = 1 - plt.imread('images.png')\n",
    "img = (image).astype(np.float32)\n",
    "img = img[:,:,0]\n",
    "# img = img > 0\n",
    "# img = img.astype(np.float32)\n",
    "# plt.imshow(img)\n",
    "x = []\n",
    "y = []\n",
    "point = []\n",
    "for i in range(225):\n",
    "    for j in range(225):\n",
    "        if img[i, j] > 0.5:\n",
    "            point.append([j, 255-i])\n",
    "            x.append(j)\n",
    "            y.append(255 - i)\n",
    "plt.scatter(x, y)\n",
    "# 1/450\n",
    "a = np.array(point)\n",
    "print(a)\n",
    "# import pickle\n",
    "# with open('datapoint.pkl', 'wb') as handle:\n",
    "#     pickle.dump(a, handle, protocol=pickle.HIGHEST_PROTOCOL)"
   ]
  },
  {
   "cell_type": "code",
   "execution_count": 15,
   "metadata": {},
   "outputs": [],
   "source": [
    "import random\n",
    "from math import *\n",
    "def gaussian_mixture(batchsize, ndim = 10, num_labels= 10):\n",
    "    if ndim % 2 != 0:\n",
    "        raise Exception(\"ndim must be a multiple of 2.\")\n",
    "\n",
    "    def sample(x, y, label, num_labels):\n",
    "        shift = 1.4\n",
    "        r = 2.0 * np.pi / float(num_labels) * float(label)\n",
    "        new_x = x * cos(r) - y * sin(r)\n",
    "        new_y = x * sin(r) + y * cos(r)\n",
    "        new_x += shift * cos(r)\n",
    "        new_y += shift * sin(r)\n",
    "        return np.array([new_x, new_y]).reshape((2,))\n",
    "\n",
    "    x_var = 0.5\n",
    "    y_var = 0.05\n",
    "    x = np.random.normal(0, x_var, (batchsize, ndim // 2))\n",
    "    y = np.random.normal(0, y_var, (batchsize, ndim // 2))\n",
    "    z = np.empty((batchsize, ndim), dtype=np.float32)\n",
    "    for batch in range(batchsize):\n",
    "        for zi in range(ndim // 2):\n",
    "            z[batch, zi*2:zi*2+2] = sample(x[batch, zi], y[batch, zi], random.randint(0, num_labels - 1), num_labels)\n",
    "    return z\n",
    "\n",
    "sample = gaussian_mixture(10000)"
   ]
  },
  {
   "cell_type": "code",
   "execution_count": 11,
   "metadata": {},
   "outputs": [
    {
     "data": {
      "text/plain": [
       "array([[0.3011201 , 0.62705077],\n",
       "       [0.59484749, 0.66317047],\n",
       "       [0.29489991, 0.63879233],\n",
       "       ...,\n",
       "       [0.42560967, 0.5408714 ],\n",
       "       [0.47158349, 0.95213684],\n",
       "       [0.35034117, 0.95983949]])"
      ]
     },
     "execution_count": 11,
     "metadata": {},
     "output_type": "execute_result"
    }
   ],
   "source": [
    "import pickle\n",
    "import numpy as np\n",
    "def preprocess(data):\n",
    "    noise = np.random.rand(data.shape[0], data.shape[1]) - 0.5\n",
    "    noisy_data = data + noise\n",
    "    r_data = noisy_data / data.max()\n",
    "    return r_data\n",
    "\n",
    "def sample(n):\n",
    "    with open('datapoint.pkl', 'rb') as handle:\n",
    "        data = pickle.load(handle)\n",
    "    r_data = preprocess(data)\n",
    "    np.random.shuffle(r_data)\n",
    "    return r_data[:n]\n",
    "sample=sample(30000)\n",
    "sample"
   ]
  },
  {
   "cell_type": "code",
   "execution_count": 22,
   "metadata": {
    "scrolled": true
   },
   "outputs": [
    {
     "data": {
      "text/plain": [
       "<matplotlib.collections.PathCollection at 0x7fea391d0860>"
      ]
     },
     "execution_count": 22,
     "metadata": {},
     "output_type": "execute_result"
    },
    {
     "data": {
      "image/png": "[encoded data removed]",
      "text/plain": [
       "<matplotlib.figure.Figure at 0x7fea39249438>"
      ]
     },
     "metadata": {},
     "output_type": "display_data"
    }
   ],
   "source": [
    "import matplotlib.pyplot as plt\n",
    "# img -= np.mean(img, axis=0)  # center\n",
    "# xlim, ylim = [0, 255], [0, 255]\n",
    "plt.scatter(sample[:,2],sample[:,3], s=3, color='red')\n",
    "# plt.xlim(xlim)\n",
    "# plt.ylim(ylim)"
   ]
  }
 ],
 "metadata": {
  "kernelspec": {
   "display_name": "Python [conda env:py36]",
   "language": "python",
   "name": "conda-env-py36-py"
  },
  "language_info": {
   "codemirror_mode": {
    "name": "ipython",
    "version": 3
   },
   "file_extension": ".py",
   "mimetype": "text/x-python",
   "name": "python",
   "nbconvert_exporter": "python",
   "pygments_lexer": "ipython3",
   "version": "3.6.4"
  }
 },
 "nbformat": 4,
 "nbformat_minor": 2
}
